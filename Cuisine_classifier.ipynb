{
  "nbformat": 4,
  "nbformat_minor": 0,
  "metadata": {
    "colab": {
      "provenance": []
    },
    "kernelspec": {
      "name": "python3",
      "display_name": "Python 3"
    },
    "language_info": {
      "name": "python"
    }
  },
  "cells": [
    {
      "cell_type": "code",
      "execution_count": 1,
      "metadata": {
        "colab": {
          "base_uri": "https://localhost:8080/",
          "height": 272
        },
        "id": "2vy3OIbQPFam",
        "outputId": "50b7121f-510b-4fe3-8ea8-18a3cb780ea5"
      },
      "outputs": [
        {
          "output_type": "execute_result",
          "data": {
            "text/plain": [
              "Primary_Cuisine\n",
              "North Indian    2992\n",
              "Chinese          855\n",
              "Fast Food        672\n",
              "Bakery           621\n",
              "Cafe             617\n",
              "Name: count, dtype: int64"
            ],
            "text/html": [
              "<div>\n",
              "<style scoped>\n",
              "    .dataframe tbody tr th:only-of-type {\n",
              "        vertical-align: middle;\n",
              "    }\n",
              "\n",
              "    .dataframe tbody tr th {\n",
              "        vertical-align: top;\n",
              "    }\n",
              "\n",
              "    .dataframe thead th {\n",
              "        text-align: right;\n",
              "    }\n",
              "</style>\n",
              "<table border=\"1\" class=\"dataframe\">\n",
              "  <thead>\n",
              "    <tr style=\"text-align: right;\">\n",
              "      <th></th>\n",
              "      <th>count</th>\n",
              "    </tr>\n",
              "    <tr>\n",
              "      <th>Primary_Cuisine</th>\n",
              "      <th></th>\n",
              "    </tr>\n",
              "  </thead>\n",
              "  <tbody>\n",
              "    <tr>\n",
              "      <th>North Indian</th>\n",
              "      <td>2992</td>\n",
              "    </tr>\n",
              "    <tr>\n",
              "      <th>Chinese</th>\n",
              "      <td>855</td>\n",
              "    </tr>\n",
              "    <tr>\n",
              "      <th>Fast Food</th>\n",
              "      <td>672</td>\n",
              "    </tr>\n",
              "    <tr>\n",
              "      <th>Bakery</th>\n",
              "      <td>621</td>\n",
              "    </tr>\n",
              "    <tr>\n",
              "      <th>Cafe</th>\n",
              "      <td>617</td>\n",
              "    </tr>\n",
              "  </tbody>\n",
              "</table>\n",
              "</div><br><label><b>dtype:</b> int64</label>"
            ]
          },
          "metadata": {},
          "execution_count": 1
        }
      ],
      "source": [
        "import pandas as pd\n",
        "df= pd.read_csv('Restaurant_dataset.csv')\n",
        "\n",
        "df['Primary_Cuisine'] = df['Cuisines'].fillna('').apply(lambda x: x.split(',')[0].strip())\n",
        "\n",
        "df['Primary_Cuisine'].value_counts().head()\n"
      ]
    },
    {
      "cell_type": "code",
      "source": [
        "features=['Price range','Aggregate rating', 'Has Online delivery','Votes']\n",
        "x=df[features]\n",
        "y=df['Primary_Cuisine']"
      ],
      "metadata": {
        "id": "d3Wgd7C0Qs_3"
      },
      "execution_count": 2,
      "outputs": []
    },
    {
      "cell_type": "code",
      "source": [
        "from sklearn.preprocessing import LabelEncoder\n",
        "\n",
        "le_delivery = LabelEncoder()\n",
        "x['Has Online delivery'] = le_delivery.fit_transform(x['Has Online delivery']\n",
        "                                                     .fillna('No'))\n",
        "\n",
        "le_cuisine = LabelEncoder()\n",
        "y = le_cuisine.fit_transform(y)\n"
      ],
      "metadata": {
        "colab": {
          "base_uri": "https://localhost:8080/"
        },
        "id": "Kh6hQrvER_4C",
        "outputId": "6f7776cd-3583-4636-e3d6-b70695bbb788"
      },
      "execution_count": 3,
      "outputs": [
        {
          "output_type": "stream",
          "name": "stderr",
          "text": [
            "/tmp/ipython-input-1744144855.py:4: SettingWithCopyWarning: \n",
            "A value is trying to be set on a copy of a slice from a DataFrame.\n",
            "Try using .loc[row_indexer,col_indexer] = value instead\n",
            "\n",
            "See the caveats in the documentation: https://pandas.pydata.org/pandas-docs/stable/user_guide/indexing.html#returning-a-view-versus-a-copy\n",
            "  x['Has Online delivery'] = le_delivery.fit_transform(x['Has Online delivery']\n"
          ]
        }
      ]
    },
    {
      "cell_type": "code",
      "source": [
        "from sklearn.model_selection import train_test_split\n",
        "\n",
        "x_train, x_test, y_train, y_test = train_test_split(x, y, test_size=0.2, random_state=42)"
      ],
      "metadata": {
        "id": "pXU47vjcScDs"
      },
      "execution_count": 4,
      "outputs": []
    },
    {
      "cell_type": "code",
      "metadata": {
        "colab": {
          "base_uri": "https://localhost:8080/"
        },
        "id": "81082464",
        "outputId": "46659e48-2980-4a49-ed1e-83b883e846f8"
      },
      "source": [
        "from sklearn.ensemble import RandomForestClassifier\n",
        "from sklearn.metrics import accuracy_score, classification_report\n",
        "import numpy as np\n",
        "\n",
        "model = RandomForestClassifier(random_state=42)\n",
        "model.fit(x_train, y_train)\n",
        "\n",
        "y_pred = model.predict(x_test)\n",
        "\n",
        "# Model accuracy\n",
        "print(f\"✅ Model Accuracy: {accuracy_score(y_test, y_pred):.2f}\")\n",
        "print(\"\\nClassification Report:\\n\", classification_report(y_test, y_pred, target_names=le_cuisine.classes_, labels=np.unique(y_pred)))"
      ],
      "execution_count": 6,
      "outputs": [
        {
          "output_type": "stream",
          "name": "stdout",
          "text": [
            "✅ Model Accuracy: 0.23\n",
            "\n",
            "Classification Report:\n",
            "                    precision    recall  f1-score   support\n",
            "\n",
            "                        0.00      0.00      0.00         2\n",
            "          Afghani       0.00      0.00      0.00         0\n",
            "          African       0.00      0.00      0.00         0\n",
            "         American       0.13      0.15      0.14        46\n",
            "           Andhra       0.00      0.00      0.00         0\n",
            "          Arabian       0.00      0.00      0.00         0\n",
            "        Argentine       0.00      0.00      0.00        13\n",
            "            Asian       0.00      0.00      0.00         0\n",
            "     Asian Fusion       0.00      0.00      0.00         3\n",
            "         Assamese       0.11      0.10      0.11       112\n",
            "       Australian       0.00      0.00      0.00         5\n",
            "           Awadhi       0.00      0.00      0.00         3\n",
            "              BBQ       0.25      0.05      0.09        19\n",
            "           Bakery       0.00      0.00      0.00        18\n",
            "         Bar Food       0.00      0.00      0.00         3\n",
            "          Bengali       0.17      0.12      0.14         8\n",
            "        Beverages       0.00      0.00      0.00         4\n",
            "           Bihari       0.00      0.00      0.00        20\n",
            "          Biryani       0.00      0.00      0.00         3\n",
            "        Brazilian       0.13      0.13      0.13       126\n",
            "        Breakfast       0.10      0.07      0.08       164\n",
            "          British       0.16      0.17      0.17        41\n",
            "           Burger       0.15      0.09      0.11        33\n",
            "          Burmese       0.07      0.07      0.07        14\n",
            "             Cafe       0.10      0.06      0.07       138\n",
            "            Cajun       0.22      0.09      0.12        23\n",
            "        Caribbean       0.00      0.00      0.00         5\n",
            "   Charcoal Grill       0.00      0.00      0.00         0\n",
            "          Chinese       0.00      0.00      0.00         2\n",
            "   Coffee and Tea       0.00      0.00      0.00         2\n",
            "     Contemporary       0.00      0.00      0.00         0\n",
            "      Continental       0.00      0.00      0.00        10\n",
            "            Cuban       0.00      0.00      0.00         3\n",
            "   Cuisine Varies       0.00      0.00      0.00        31\n",
            "         Desserts       0.00      0.00      0.00         9\n",
            "      Drinks Only       0.00      0.00      0.00         2\n",
            "         European       0.12      0.05      0.07        56\n",
            "        Fast Food       0.05      0.06      0.05        18\n",
            "         Filipino       0.00      0.00      0.00         2\n",
            "      Finger Food       0.00      0.00      0.00         0\n",
            "           French       0.00      0.00      0.00         3\n",
            "           German       0.00      0.00      0.00         1\n",
            "             Goan       0.00      0.00      0.00         6\n",
            "Gourmet Fast Food       0.00      0.00      0.00         2\n",
            "            Greek       0.00      0.00      0.00         0\n",
            "            Grill       0.00      0.00      0.00         6\n",
            "         Gujarati       0.00      0.00      0.00        15\n",
            "         Hawaiian       0.00      0.00      0.00         1\n",
            "     Healthy Food       0.08      0.03      0.04        40\n",
            "       Hyderabadi       0.00      0.00      0.00         2\n",
            "        Ice Cream       0.00      0.00      0.00        47\n",
            "           Indian       0.37      0.60      0.46       598\n",
            "       Indonesian       0.00      0.00      0.00         3\n",
            "    International       0.00      0.00      0.00         0\n",
            "            Irish       0.16      0.14      0.15        50\n",
            "          Italian       0.00      0.00      0.00         2\n",
            "         Japanese       0.00      0.00      0.00        21\n",
            "           Juices       0.00      0.00      0.00         1\n",
            "         Kashmiri       0.12      0.14      0.13         7\n",
            "            Kebab       0.06      0.03      0.04        59\n",
            "           Kerala       0.00      0.00      0.00         0\n",
            "             Kiwi       0.00      0.00      0.00         1\n",
            "           Korean       0.00      0.00      0.00         3\n",
            "   Latin American       0.03      0.02      0.02        57\n",
            "         Lebanese       0.50      1.00      0.67         1\n",
            "         Lucknowi       0.00      0.00      0.00         3\n",
            "    Maharashtrian       0.00      0.00      0.00         1\n",
            "        Malaysian       0.00      0.00      0.00         4\n",
            "          Malwani       0.00      0.00      0.00         1\n",
            "    Mediterranean       0.00      0.00      0.00         0\n",
            "\n",
            "        micro avg       0.23      0.24      0.23      1873\n",
            "        macro avg       0.04      0.05      0.04      1873\n",
            "     weighted avg       0.18      0.24      0.20      1873\n",
            "\n"
          ]
        },
        {
          "output_type": "stream",
          "name": "stderr",
          "text": [
            "/usr/local/lib/python3.11/dist-packages/sklearn/metrics/_classification.py:2687: UserWarning: labels size, 70, does not match size of target_names, 120\n",
            "  warnings.warn(\n",
            "/usr/local/lib/python3.11/dist-packages/sklearn/metrics/_classification.py:1565: UndefinedMetricWarning: Recall is ill-defined and being set to 0.0 in labels with no true samples. Use `zero_division` parameter to control this behavior.\n",
            "  _warn_prf(average, modifier, f\"{metric.capitalize()} is\", len(result))\n",
            "/usr/local/lib/python3.11/dist-packages/sklearn/metrics/_classification.py:1565: UndefinedMetricWarning: Recall is ill-defined and being set to 0.0 in labels with no true samples. Use `zero_division` parameter to control this behavior.\n",
            "  _warn_prf(average, modifier, f\"{metric.capitalize()} is\", len(result))\n",
            "/usr/local/lib/python3.11/dist-packages/sklearn/metrics/_classification.py:1565: UndefinedMetricWarning: Recall is ill-defined and being set to 0.0 in labels with no true samples. Use `zero_division` parameter to control this behavior.\n",
            "  _warn_prf(average, modifier, f\"{metric.capitalize()} is\", len(result))\n"
          ]
        }
      ]
    },
    {
      "cell_type": "code",
      "metadata": {
        "colab": {
          "base_uri": "https://localhost:8080/"
        },
        "id": "40f4e8bc",
        "outputId": "d82215e5-aa1c-46c8-f129-d2bbbc4fd153"
      },
      "source": [
        "print(\"\\n Cuisine Prediction Tool \")\n",
        "\n",
        "price_range = int(input(\"Enter price range (1=Low, 4=High): \"))\n",
        "aggregate_rating = float(input(\"Enter restaurant rating (0-5): \"))\n",
        "online_delivery = input(\"Has online delivery? (Yes/No): \").capitalize()\n",
        "votes = int(input(\"Enter number of votes: \"))\n",
        "#input data\n",
        "sample = pd.DataFrame({\n",
        "    'Price range': [price_range],\n",
        "    'Aggregate rating': [aggregate_rating],\n",
        "    'Has Online delivery': le_delivery.transform([online_delivery]),\n",
        "    'Votes': [votes]\n",
        "})\n",
        "\n",
        "#prediction\n",
        "pred_cuisine = le_cuisine.inverse_transform(model.predict(sample))\n",
        "print(\"\\n✅ Predicted Cuisine:\", pred_cuisine[0])"
      ],
      "execution_count": 8,
      "outputs": [
        {
          "output_type": "stream",
          "name": "stdout",
          "text": [
            "\n",
            " Cuisine Prediction Tool \n",
            "Enter price range (1=Low, 4=High): 4\n",
            "Enter restaurant rating (0-5): 4\n",
            "Has online delivery? (Yes/No): no\n",
            "Enter number of votes: 10\n",
            "\n",
            "✅ Predicted Cuisine: Seafood\n"
          ]
        }
      ]
    }
  ]
}