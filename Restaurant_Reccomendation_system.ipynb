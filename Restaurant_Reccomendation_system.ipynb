{
  "nbformat": 4,
  "nbformat_minor": 0,
  "metadata": {
    "colab": {
      "provenance": []
    },
    "kernelspec": {
      "name": "python3",
      "display_name": "Python 3"
    },
    "language_info": {
      "name": "python"
    }
  },
  "cells": [
    {
      "cell_type": "code",
      "execution_count": null,
      "metadata": {
        "id": "dw53XOUFgmzS"
      },
      "outputs": [],
      "source": [
        "import pandas as pd\n",
        "from sklearn.feature_extraction.text import TfidfVectorizer\n",
        "from sklearn.metrics.pairwise import cosine_similarity\n",
        "\n",
        "df=pd.read_csv('Restaurant_dataset.csv')\n",
        "df.head()"
      ]
    },
    {
      "cell_type": "code",
      "source": [
        "df ['Cuisines']= df['Cuisines'].fillna('')\n",
        "df ['Has Online delivery']= df['Has Online delivery'].fillna('')\n",
        "df ['Aggregate rating']= df['Aggregate rating'].fillna(0)\n",
        "\n",
        "df['features']=(df['Cuisines']+ ' ' +\n",
        "                df['Has Online delivery']+' ' +\n",
        "                str(df['Aggregate rating'])+\n",
        "                str(df['Price range'])\n",
        ")"
      ],
      "metadata": {
        "id": "aBuHQYJvg8kJ"
      },
      "execution_count": null,
      "outputs": []
    },
    {
      "cell_type": "code",
      "source": [
        "from sklearn.feature_extraction.text import TfidfVectorizer\n",
        "from sklearn.metrics.pairwise import cosine_similarity\n",
        "vectorizer= TfidfVectorizer(stop_words='english')\n",
        "feature_matrix= vectorizer.fit_transform(df['features'])\n",
        "similarity_matrix= cosine_similarity(feature_matrix)\n",
        "\n"
      ],
      "metadata": {
        "id": "8woUPmq1kA5y"
      },
      "execution_count": null,
      "outputs": []
    },
    {
      "cell_type": "code",
      "source": [
        "def recommend_by_preferences(cuisine, price_range, online_delivery, min_rating=0.0,\n",
        "                             num_recommendations=5):\n",
        "\n",
        "    user_pref = f\"{cuisine} {online_delivery} {price_range} {min_rating}\"\n",
        "\n",
        "    user_vector = vectorizer.transform([user_pref])\n",
        "\n",
        "    sim_scores = cosine_similarity(user_vector, feature_matrix).flatten()\n",
        "    sim_indices = sim_scores.argsort()[::-1]\n",
        "\n",
        "    filtered_indices = [i for i in sim_indices if df.iloc[i]['Aggregate rating'] >= min_rating]\n",
        "\n",
        "    return df.iloc[filtered_indices][['Restaurant Name', 'Cuisines', 'Price range',\n",
        "                                      'Aggregate rating', 'Has Online delivery']].head(num_recommendations)"
      ],
      "metadata": {
        "id": "h5gfZfFRkEk6"
      },
      "execution_count": null,
      "outputs": []
    },
    {
      "cell_type": "code",
      "source": [
        "print(\"🍽️ Welcome to the Restaurant Recommender 🍽️\\n\")\n",
        "\n",
        "cuisine = input(\"Enter preferred cuisine (e.g., Chinese, Italian): \")\n",
        "price_range = input(\"Enter price range (1=Low, 4=High): \")\n",
        "online_delivery = input(\"Need online delivery? (Yes/No): \")\n",
        "min_rating = float(input(\"Minimum rating (0-5): \"))\n",
        "\n",
        "results = recommend_by_preferences(cuisine, price_range, online_delivery, min_rating)\n",
        "print(\"\\n✅ Recommended Restaurants:\\n\")\n",
        "print(results.to_string(index=False))"
      ],
      "metadata": {
        "colab": {
          "base_uri": "https://localhost:8080/"
        },
        "id": "IgDSCFsAkspU",
        "outputId": "34d92c6e-39fe-470d-dcc8-50c47a0b0798"
      },
      "execution_count": null,
      "outputs": [
        {
          "metadata": {
            "tags": null
          },
          "name": "stdout",
          "output_type": "stream",
          "text": [
            "🍽️ Welcome to the Restaurant Recommender 🍽️\n",
            "\n"
          ]
        }
      ]
    }
  ]
}